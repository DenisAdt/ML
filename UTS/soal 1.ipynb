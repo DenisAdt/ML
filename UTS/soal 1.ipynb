{
 "cells": [
  {
   "cell_type": "code",
   "execution_count": 2,
   "metadata": {},
   "outputs": [
    {
     "name": "stdout",
     "output_type": "stream",
     "text": [
      "Rata-rata mahasiswa datang pada minggu ini: 2.7142857142857144\n",
      "Biaya tertinggi terjadi pada hari Sabtu\n",
      "Hari dengan biaya lebih dari 110000: ['Sabtu']\n",
      "Mahasiswa yang paling banyak datang ke kampus: Ani dengan 2 kali\n",
      "Mahasiswa yang datang pada hari Minggu: ['Budi']\n",
      "Biaya tertinggi: 150000, Biaya terendah: 15000\n",
      "Frekuensi datang tertinggi: 5, Frekuensi datang terendah: 1\n"
     ]
    }
   ],
   "source": [
    "# Data mahasiswa dan biaya\n",
    "data = [\n",
    "    {'hari': 'Senin', 'datang': 2, 'biaya_per_orang': 30000, 'mahasiswa': 'Ani'},\n",
    "    {'hari': 'Selasa', 'datang': 3, 'biaya_per_orang': 35000, 'mahasiswa': 'Budi'},\n",
    "    {'hari': 'Rabu', 'datang': 4, 'biaya_per_orang': 25000, 'mahasiswa': 'Jono'},\n",
    "    {'hari': 'Kamis', 'datang': 1, 'biaya_per_orang': 15000, 'mahasiswa': 'Lono'},\n",
    "    {'hari': 'Jumat', 'datang': 2, 'biaya_per_orang': 20000, 'mahasiswa': 'Joni'},\n",
    "    {'hari': 'Sabtu', 'datang': 5, 'biaya_per_orang': 30000, 'mahasiswa': 'Ani'},\n",
    "    {'hari': 'Minggu', 'datang': 2, 'biaya_per_orang': 35000, 'mahasiswa': 'Budi'}\n",
    "]\n",
    "\n",
    "# a) Rata-rata mahasiswa datang pada minggu ini\n",
    "total_datang = sum(d['datang'] for d in data)\n",
    "rata_rata_datang = total_datang / len(data)\n",
    "print(f\"Rata-rata mahasiswa datang pada minggu ini: {rata_rata_datang}\")\n",
    "\n",
    "# b) Kapan biaya tertinggi terjadi\n",
    "max_biaya = max(data, key=lambda x: x['datang'] * x['biaya_per_orang'])\n",
    "print(f\"Biaya tertinggi terjadi pada hari {max_biaya['hari']}\")\n",
    "\n",
    "# c) Hari apa biaya lebih dari 110000\n",
    "hari_biaya_lebih_110000 = [d['hari'] for d in data if d['datang'] * d['biaya_per_orang'] > 110000]\n",
    "print(f\"Hari dengan biaya lebih dari 110000: {hari_biaya_lebih_110000}\")\n",
    "\n",
    "# d) Siapa yang paling banyak datang ke kampus\n",
    "from collections import Counter\n",
    "mahasiswa_counter = Counter(d['mahasiswa'] for d in data)\n",
    "mahasiswa_terbanyak = mahasiswa_counter.most_common(1)[0]\n",
    "print(f\"Mahasiswa yang paling banyak datang ke kampus: {mahasiswa_terbanyak[0]} dengan {mahasiswa_terbanyak[1]} kali\")\n",
    "\n",
    "# e) Siapa yang datang pada hari minggu\n",
    "mahasiswa_minggu = [d['mahasiswa'] for d in data if d['hari'] == 'Minggu']\n",
    "print(f\"Mahasiswa yang datang pada hari Minggu: {mahasiswa_minggu}\")\n",
    "\n",
    "# f) Biaya tertinggi dan terendah\n",
    "biaya_total_per_hari = [d['datang'] * d['biaya_per_orang'] for d in data]\n",
    "biaya_tertinggi = max(biaya_total_per_hari)\n",
    "biaya_terendah = min(biaya_total_per_hari)\n",
    "print(f\"Biaya tertinggi: {biaya_tertinggi}, Biaya terendah: {biaya_terendah}\")\n",
    "\n",
    "# g) Frekuensi datang tertinggi dan terendah\n",
    "frekuensi_tertinggi = max(d['datang'] for d in data)\n",
    "frekuensi_terendah = min(d['datang'] for d in data)\n",
    "print(f\"Frekuensi datang tertinggi: {frekuensi_tertinggi}, Frekuensi datang terendah: {frekuensi_terendah}\")"
   ]
  }
 ],
 "metadata": {
  "kernelspec": {
   "display_name": "Python 3",
   "language": "python",
   "name": "python3"
  },
  "language_info": {
   "codemirror_mode": {
    "name": "ipython",
    "version": 3
   },
   "file_extension": ".py",
   "mimetype": "text/x-python",
   "name": "python",
   "nbconvert_exporter": "python",
   "pygments_lexer": "ipython3",
   "version": "3.10.12"
  }
 },
 "nbformat": 4,
 "nbformat_minor": 2
}
